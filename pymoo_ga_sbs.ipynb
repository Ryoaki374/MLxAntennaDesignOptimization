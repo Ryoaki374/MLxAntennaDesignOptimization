{
 "cells": [
  {
   "cell_type": "code",
   "execution_count": 1,
   "id": "f095939f",
   "metadata": {},
   "outputs": [],
   "source": [
    "import numpy as np\n",
    "from tqdm import tqdm\n",
    "import matplotlib.pyplot as plt\n",
    "\n",
    "from pymoo.algorithms.soo.nonconvex.ga import GA\n",
    "from pymoo.core.callback import Callback\n",
    "from pymoo.core.evaluator import Evaluator\n",
    "from pymoo.core.problem import Problem\n",
    "from pymoo.core.termination import NoTermination\n",
    "from pymoo.operators.crossover.sbx import SBX\n",
    "from pymoo.operators.mutation.gauss import GaussianMutation\n",
    "from pymoo.operators.sampling.rnd import FloatRandomSampling\n",
    "from pymoo.operators.selection.tournament import TournamentSelection\n",
    "from pymoo.problems.static import StaticProblem"
   ]
  },
  {
   "cell_type": "code",
   "execution_count": 6,
   "id": "e017ed0f",
   "metadata": {},
   "outputs": [
    {
     "name": "stderr",
     "output_type": "stream",
     "text": [
      "Evolving: 100%|██████████| 100/100 [02:02<00:00,  1.23s/it, min_f=0.0725]\n"
     ]
    }
   ],
   "source": [
    "# --- 1. 問題定義 ---\n",
    "# Ackley関数の最適化問題として再定義\n",
    "N_VAR = 2\n",
    "problem = Problem(n_var=N_VAR,\n",
    "                  n_obj=1,          # 目的変数の数を1に変更\n",
    "                  n_constr=0,\n",
    "                  xl=-32.768,     # Ackley関数の一般的な探索範囲\n",
    "                  xu=32.768)\n",
    "\n",
    "# --- 2. アルゴリズムの設定 ---\n",
    "# deapでのToolbox設定 (交叉、突然変異、選択) に相当する部分をpymooで実装\n",
    "\n",
    "# バイナリトーナメント選択のための比較関数\n",
    "def binary_tournament(pop, P, **kwargs):\n",
    "    n_tournaments, n_competitors = P.shape\n",
    "    if n_competitors != 2:\n",
    "        raise ValueError(\"このトーナメント関数は2個体選択(pressure=2)専用です。\")\n",
    "\n",
    "    S = np.full(n_tournaments, -1, dtype=int)\n",
    "    for i in range(n_tournaments):\n",
    "        a, b = P[i]\n",
    "        if pop[a].F < pop[b].F:\n",
    "            S[i] = a\n",
    "        else:\n",
    "            S[i] = b\n",
    "    return S\n",
    "\n",
    "# GAアルゴリズムに詳細な設定を適用\n",
    "algorithm = GA(\n",
    "    pop_size=1000,\n",
    "    sampling=FloatRandomSampling(),\n",
    "    selection=TournamentSelection(func_comp=binary_tournament, pressure=2),\n",
    "    crossover=SBX(prob=0.5, eta=15),\n",
    "    mutation=GaussianMutation(prob=0.2, sigma=5),\n",
    "    eliminate_duplicates=True\n",
    ")\n",
    "\n",
    "\n",
    "# --- 3. コールバックと終了条件の設定 ---\n",
    "N_GEN = 100 # 世代数\n",
    "\n",
    "# プログレスバー表示とデータ収集を兼ねるカスタムCallbackクラス\n",
    "class CustomCallback(Callback):\n",
    "    def __init__(self, n_gen):\n",
    "        super().__init__()\n",
    "        self.pbar = tqdm(total=n_gen, desc=\"Evolving\")\n",
    "        self.data = {\"avg\": [], \"min\": [], \"std\": []}\n",
    "\n",
    "    def notify(self, algorithm):\n",
    "        pop_f = algorithm.pop.get(\"F\")\n",
    "        self.data[\"avg\"].append(np.mean(pop_f))\n",
    "        self.data[\"min\"].append(np.min(pop_f))\n",
    "        self.data[\"std\"].append(np.std(pop_f))\n",
    "        self.pbar.update(1)\n",
    "        self.pbar.set_postfix(min_f=f\"{self.data['min'][-1]:.4f}\")\n",
    "\n",
    "    def __del__(self):\n",
    "        self.pbar.close()\n",
    "\n",
    "# コールバックを初期化\n",
    "callback = CustomCallback(n_gen=N_GEN)\n",
    "\n",
    "# --- 4. GAの実行 (Ask-Tellインターフェース) ---\n",
    "\n",
    "# アルゴリズムが自動で終了しないように設定\n",
    "termination = NoTermination()\n",
    "\n",
    "# アルゴリズムを問題と終了条件でセットアップ\n",
    "algorithm.setup(problem, termination=termination)\n",
    "\n",
    "# 乱数シードを固定\n",
    "np.random.seed(1)"
   ]
  },
  {
   "cell_type": "code",
   "execution_count": 7,
   "id": "a2938683",
   "metadata": {},
   "outputs": [
    {
     "name": "stderr",
     "output_type": "stream",
     "text": []
    }
   ],
   "source": [
    "\n",
    "# 指定した世代数分の最適化計算を実行\n",
    "for n_gen in range(N_GEN):\n",
    "    # アルゴリズムに次に評価すべき個体群を問い合わせる\n",
    "    pop = algorithm.ask()\n",
    "\n",
    "    # 個体群の設計変数値を取得\n",
    "    X = pop.get(\"X\")\n",
    "\n",
    "    # Ackley関数の値を計算\n",
    "    a, b, c, d = 20, 0.2, 2 * np.pi, N_VAR\n",
    "    sum_sq_term = np.sum(X**2, axis=1)\n",
    "    cos_term = np.sum(np.cos(c * X), axis=1)\n",
    "    term1 = -a * np.exp(-b * np.sqrt(sum_sq_term / d))\n",
    "    term2 = -np.exp(cos_term / d)\n",
    "    F = term1 + term2 + a + np.e\n",
    "    F = F[:, np.newaxis]\n",
    "\n",
    "    # 評価結果をpopオブジェクトに格納\n",
    "    static = StaticProblem(problem, F=F)\n",
    "    Evaluator().eval(static, pop)\n",
    "\n",
    "    # 評価済みの個体群をアルゴリズムにフィードバック\n",
    "    algorithm.tell(infills=pop)\n",
    "\n",
    "    # コールバックを呼び出して進捗を更新\n",
    "    callback.notify(algorithm)\n",
    "\n",
    "# --- 5. 結果の表示 ---\n",
    "\n",
    "# アルゴリズムから最終結果を取得\n",
    "res = algorithm.result()"
   ]
  },
  {
   "cell_type": "code",
   "execution_count": 8,
   "id": "5c47596a",
   "metadata": {},
   "outputs": [
    {
     "name": "stdout",
     "output_type": "stream",
     "text": [
      "\n",
      "-- End of evolution --\n",
      "individual: [ 1.66694729e-15 -3.80462934e-16]\n",
      "fitness: 3.9968028886505635e-15\n"
     ]
    },
    {
     "data": {
      "image/png": "[encoded data removed]",
      "text/plain": [
       "<Figure size 640x480 with 1 Axes>"
      ]
     },
     "metadata": {},
     "output_type": "display_data"
    }
   ],
   "source": [
    "# --- 5. 結果の表示 ---\n",
    "# deapでの hof[0] や hof[0].fitness.values に相当します。\n",
    "print(\"\\n-- End of evolution --\")\n",
    "print(f\"individual: {res.X}\")\n",
    "print(f\"fitness: {res.F[0]}\")\n",
    "\n",
    "# --- 6. グラフの描画 ---\n",
    "# Callbackオブジェクトから統計データを直接取得してグラフを作成します。\n",
    "avg_list = np.array(callback.data[\"avg\"])\n",
    "min_list = np.array(callback.data[\"min\"])\n",
    "std_list = np.array(callback.data[\"std\"])\n",
    "n_gen = len(min_list)\n",
    "\n",
    "gen = np.arange(n_gen)\n",
    "#fig, ax = plt.subplots(figsize=(10, 8), dpi=100)\n",
    "fig, ax = plt.subplots()\n",
    "\n",
    "# mean with solid line\n",
    "line1 = ax.plot(gen, avg_list, \"b-\", label=\"Average Fitness\")\n",
    "\n",
    "# min with dashed line\n",
    "line2 = ax.plot(gen, min_list, \"g-.\", label=\"Minimum Fitness\")\n",
    "\n",
    "ax.set_xlabel(\"Generation\")\n",
    "ax.set_ylabel(\"Fitness\")\n",
    "\n",
    "# 平均 +/- 標準偏差の範囲を塗りつぶしで表示\n",
    "std_upper = avg_list + std_list\n",
    "std_lower = avg_list - std_list\n",
    "ax.fill_between(gen, std_lower, std_upper,\n",
    "                 color='b', alpha=0.2, label=\"Average +/- Std Dev\")\n",
    "\n",
    "ax.legend(loc=\"upper right\")\n",
    "plt.grid(True)\n",
    "plt.show()"
   ]
  },
  {
   "cell_type": "code",
   "execution_count": null,
   "id": "6e2dd92a",
   "metadata": {},
   "outputs": [],
   "source": []
  }
 ],
 "metadata": {
  "kernelspec": {
   "display_name": ".deap",
   "language": "python",
   "name": "python3"
  },
  "language_info": {
   "codemirror_mode": {
    "name": "ipython",
    "version": 3
   },
   "file_extension": ".py",
   "mimetype": "text/x-python",
   "name": "python",
   "nbconvert_exporter": "python",
   "pygments_lexer": "ipython3",
   "version": "3.11.0"
  }
 },
 "nbformat": 4,
 "nbformat_minor": 5
}
